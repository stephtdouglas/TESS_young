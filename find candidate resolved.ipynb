{
 "cells": [
  {
   "cell_type": "code",
   "execution_count": 1,
   "id": "ab301934",
   "metadata": {},
   "outputs": [],
   "source": [
    "import os\n",
    "\n",
    "%matplotlib inline\n",
    "import matplotlib.pyplot as plt\n",
    "from matplotlib.patches import Circle\n",
    "import matplotlib.cm as cm\n",
    "import numpy as np\n",
    "import astropy.io.ascii as at\n",
    "import astropy.io.fits as fits\n",
    "import astropy.units as u\n",
    "from astropy.time import Time\n",
    "from astropy.io import fits\n",
    "from astropy.coordinates import SkyCoord, Distance\n",
    "from astropy.table import Table,join\n",
    "# from calc_ruwe import calc_ruwe\n",
    "# from scipy import stats, spatial"
   ]
  },
  {
   "cell_type": "code",
   "execution_count": 2,
   "id": "6b0ed72f",
   "metadata": {},
   "outputs": [],
   "source": [
    "cmap2 = cm.get_cmap(\"viridis\",7)\n",
    "colors = {\"IC_2391\": cmap2(0),\n",
    "         \"IC_2602\": cmap2(4),\n",
    "         \"NGC_2547\": cmap2(3),\n",
    "         \"NGC_2451A\": cmap2(2),\n",
    "         \"Collinder_135\": cmap2(1)}\n",
    "\n",
    "\n",
    "shapes= {\"IC_2391\": \"o\",\n",
    "         \"IC_2602\": \"d\",\n",
    "         \"NGC_2547\": \"v\",\n",
    "         \"NGC_2451A\": \"^\",\n",
    "         \"Collinder_135\": \"s\"}\n"
   ]
  },
  {
   "cell_type": "code",
   "execution_count": 3,
   "id": "7613130a",
   "metadata": {},
   "outputs": [],
   "source": [
    "cat_dir = os.path.expanduser(\"~/projects/TESS_young/\")"
   ]
  },
  {
   "cell_type": "code",
   "execution_count": 4,
   "id": "53c67d9b",
   "metadata": {},
   "outputs": [],
   "source": [
    "from analyze_cluster_output import id_solar, read_cluster_visual"
   ]
  },
  {
   "cell_type": "code",
   "execution_count": 5,
   "id": "40918825",
   "metadata": {},
   "outputs": [],
   "source": [
    "clusters = [\"IC_2391\",\"Collinder_135\",\"NGC_2451A\",\"NGC_2547\",\"IC_2602\"]\n",
    "dates = [\"2021-06-22\",\"2021-06-18\",\"2021-06-21\",\"2021-06-21\",\"2021-07-02\"]\n",
    "distances = {\"Collinder_135\":292,\"IC_2602\": 149, \"NGC_2547\":396,\n",
    "             \"IC_2391\":148,\"NGC_2451A\":195}\n"
   ]
  },
  {
   "cell_type": "code",
   "execution_count": 6,
   "id": "3b337a16",
   "metadata": {},
   "outputs": [
    {
     "name": "stdout",
     "output_type": "stream",
     "text": [
      "224\n",
      "6.756756756756757 arcsec\n",
      "IC_2391 [False False False False False False False False]\n",
      "364\n",
      "3.4246575342465753 arcsec\n",
      "Collinder_135 [False False False False False False False False False False False False\n",
      " False False False False False]\n",
      "316\n",
      "5.128205128205129 arcsec\n",
      "NGC_2451A [False False False False False False False False False False False]\n",
      "199\n",
      "2.525252525252525 arcsec\n",
      "NGC_2547 [False False False False False False False False False False False False\n",
      " False]\n",
      "395\n",
      "6.7114093959731544 arcsec\n",
      "IC_2602 [False False False False False False False False False False False False\n",
      " False False]\n"
     ]
    }
   ],
   "source": [
    "# i = 0\n",
    "# cluster = clusters[i]\n",
    "max_sep = 1e3 * u.AU\n",
    "\n",
    "for i,cluster in enumerate(clusters):\n",
    "\n",
    "    hdbscanfile = os.path.expanduser(f\"~/Dropbox/EDR3/scats/{cluster}.fits\")\n",
    "    with fits.open(hdbscanfile) as hdu:\n",
    "        hdbscan = Table(hdu[1].data)\n",
    "    if hdbscan.masked == False:\n",
    "        hdbscan = Table(hdbscan, masked=True, copy=False)\n",
    "    hdbscan.rename_column(\"GAIADER3_ID\",\"GAIAEDR3_ID\")\n",
    "    hpos = SkyCoord(hdbscan[\"GAIAEDR3_RA\"],hdbscan[\"GAIAEDR3_DEC\"],unit=u.degree)\n",
    "\n",
    "\n",
    "    dat2 = read_cluster_visual(cluster,dates[i],clean_limit=0,\n",
    "                               to_plot=False,return_periodcolor=False)\n",
    "    dpos = SkyCoord(dat2[\"GAIAEDR3_RA\"],dat2[\"GAIAEDR3_DEC\"],unit=u.degree)\n",
    "\n",
    "    bp_rp = hdbscan[\"GAIAEDR3_BP\"] - hdbscan[\"GAIAEDR3_RP\"]\n",
    "    bp_rp2 = dat2[\"GAIAEDR3_BP\"] - dat2[\"GAIAEDR3_RP\"]\n",
    "\n",
    "    solar = id_solar(bp_rp2)\n",
    "\n",
    "    sep_dist = max_sep.to(u.pc) / (distances[cluster]*u.pc)\n",
    "    max_ang_dist =  sep_dist.value * 360 / (2*np.pi) * u.degree\n",
    "    print(max_ang_dist.to(u.arcsec))\n",
    "\n",
    "    n_solar = len(np.where(solar)[0])\n",
    "    ndat = len(dat2)\n",
    "    cand_resolved = np.zeros(ndat,bool)\n",
    "    cand_loc = np.ones(ndat,int)*-9999\n",
    "\n",
    "    for j in np.where(solar)[0]:    \n",
    "        sep = dpos[j].separation(hpos)\n",
    "\n",
    "        hloc = hdbscan[\"GAIAEDR3_ID\"]==dat2[\"GAIAEDR3_ID\"][j]\n",
    "\n",
    "        close = (sep < max_ang_dist) & (hdbscan[\"GAIAEDR3_ID\"]!=dat2[\"GAIAEDR3_ID\"][j])\n",
    "\n",
    "    #     print(len(np.where(close)[0]))\n",
    "    #     print(sep[close].to(u.arcsec))\n",
    "        for k in np.where(close)[0]:\n",
    "            pmra_diff = np.abs(hdbscan[\"GAIAEDR3_PMRA\"][hloc]-hdbscan[\"GAIAEDR3_PMRA\"][k])\n",
    "            pmdec_diff = np.abs(hdbscan[\"GAIAEDR3_PMDEC\"][hloc]-hdbscan[\"GAIAEDR3_PMDEC\"][k])\n",
    "            pmra_diff_sigma = np.sqrt(hdbscan[\"GAIAEDR3_PMRA_ERROR\"][hloc]**2 + hdbscan[\"GAIAEDR3_PMRA_ERROR\"][k]**2)\n",
    "            pmdec_diff_sigma = np.sqrt(hdbscan[\"GAIAEDR3_PMDEC_ERROR\"][hloc]**2 + hdbscan[\"GAIAEDR3_PMDEC_ERROR\"][k]**2)\n",
    "    #         print(k,pmra_diff,pmdec_diff,pmra_diff_sigma,pmdec_diff_sigma)\n",
    "            if (pmra_diff < (pmra_diff_sigma*3)) & (pmdec_diff < (pmdec_diff_sigma*3)):\n",
    "                cand_resolved[j] = True\n",
    "                cand_loc[j] = k\n",
    "                print(i,j,k,sep[k].to(u.arcsec))\n",
    "                print(k,pmra_diff_sigma,pmdec_diff_sigma)\n",
    "                \n",
    "\n",
    "    print(cluster,cand_resolved[solar])\n",
    "# Something is wrong with this because I'm getting a print out for an IC2391 star, but no close targets in the boolean array"
   ]
  },
  {
   "cell_type": "code",
   "execution_count": null,
   "id": "64d26d8d",
   "metadata": {},
   "outputs": [],
   "source": []
  },
  {
   "cell_type": "code",
   "execution_count": 7,
   "id": "bddb18e7",
   "metadata": {},
   "outputs": [
    {
     "data": {
      "text/plain": [
       "array([False, False, False, False, False, False, False, False, False,\n",
       "       False, False, False, False, False, False, False, False, False,\n",
       "       False, False, False, False, False, False, False, False, False,\n",
       "       False, False, False, False, False, False, False, False, False,\n",
       "       False, False, False, False, False, False, False, False, False,\n",
       "       False, False, False, False, False, False, False, False, False,\n",
       "       False, False, False, False, False, False, False, False, False,\n",
       "       False, False, False, False, False, False, False, False, False,\n",
       "       False, False, False, False, False, False, False, False, False,\n",
       "       False, False, False, False, False, False, False, False, False,\n",
       "       False, False, False, False, False, False, False, False, False,\n",
       "       False, False, False, False, False, False, False, False, False,\n",
       "       False, False, False, False, False, False, False, False, False,\n",
       "       False, False, False, False, False, False, False, False, False,\n",
       "       False, False, False, False, False, False, False, False, False,\n",
       "       False, False, False, False, False, False, False, False, False,\n",
       "       False, False, False, False, False, False, False, False, False,\n",
       "       False, False, False, False, False, False, False, False, False,\n",
       "       False, False, False, False, False, False, False, False, False,\n",
       "       False, False, False, False, False, False, False, False, False,\n",
       "       False, False, False, False, False, False, False, False, False,\n",
       "       False, False, False, False, False, False, False, False, False,\n",
       "       False, False, False, False, False, False, False, False, False,\n",
       "       False, False, False, False, False, False, False, False, False,\n",
       "       False, False, False, False, False, False, False, False, False,\n",
       "       False, False, False, False, False, False, False, False, False,\n",
       "       False, False, False, False, False, False, False, False, False,\n",
       "       False, False, False, False, False, False, False, False, False,\n",
       "       False, False, False, False, False, False, False, False, False,\n",
       "       False, False, False, False, False, False, False, False, False,\n",
       "       False, False, False, False, False, False, False, False, False,\n",
       "       False, False, False, False, False, False, False, False, False,\n",
       "       False, False, False, False, False, False, False, False, False,\n",
       "       False, False, False, False, False, False, False, False, False,\n",
       "       False, False, False, False, False, False, False, False, False,\n",
       "       False, False, False, False, False, False, False, False, False,\n",
       "       False, False, False, False, False, False, False, False, False,\n",
       "       False, False, False, False, False, False, False, False, False,\n",
       "       False, False, False, False, False, False, False, False, False,\n",
       "       False, False, False, False, False, False, False, False, False,\n",
       "       False, False, False, False, False, False, False, False, False,\n",
       "       False, False, False, False, False, False, False, False, False,\n",
       "       False, False, False, False, False, False, False, False, False,\n",
       "       False, False, False, False, False, False, False, False, False,\n",
       "       False, False, False, False, False])"
      ]
     },
     "execution_count": 7,
     "metadata": {},
     "output_type": "execute_result"
    }
   ],
   "source": [
    "cand_resolved"
   ]
  },
  {
   "cell_type": "code",
   "execution_count": 8,
   "id": "ce6b4e7f",
   "metadata": {},
   "outputs": [
    {
     "data": {
      "text/plain": [
       "dtype([('H3_ID', '>f8'), ('PS_ID', '>i8'), ('TMASS_ID', '>i8'), ('WISE_ID', '<U28'), ('UNWISE_ID', '<U16'), ('SDSS_ID', '>i8'), ('GALEX_ID', '>i8'), ('DES_ID', '>i8'), ('DECAPS_ID', '>i8'), ('UKIDSS_ID', '>i8'), ('APOPAYNE_ID', '>i8'), ('LAMOST_ID', '>i4'), ('GAIADR1_ID', '>f8'), ('GAIADR2_ID', '>f8'), ('GAIAEDR3_ID', '>i8'), ('TILE_ID', '>f8'), ('RA', '>f8'), ('DEC', '>f8'), ('RA_S', '>f8'), ('DEC_S', '>f8'), ('L', '>f8'), ('B', '>f8'), ('EBV', '>f4'), ('BHB', '>f8'), ('MGIANT', '>f8'), ('RAND', '>f8'), ('GUIDE', '>f8'), ('XFIT_RANK', '>f8'), ('PS_G', '>f4'), ('PS_R', '>f4'), ('PS_I', '>f4'), ('PS_Z', '>f4'), ('PS_Y', '>f4'), ('SDSS_U', '>f4'), ('SDSS_G', '>f4'), ('SDSS_R', '>f4'), ('SDSS_I', '>f4'), ('SDSS_Z', '>f4'), ('TMASS_J', '>f4'), ('TMASS_H', '>f4'), ('TMASS_K', '>f4'), ('WISE_W1', '>f4'), ('WISE_W2', '>f4'), ('WISE_W3', '>f4'), ('WISE_W4', '>f4'), ('UNWISE_W1', '>f4'), ('UNWISE_W2', '>f4'), ('GALEX_NUV', '>f4'), ('GALEX_FUV', '>f4'), ('DES_G', '>f4'), ('DES_R', '>f4'), ('DES_I', '>f4'), ('DES_Z', '>f4'), ('DES_Y', '>f4'), ('DECAPS_G', '>f4'), ('DECAPS_R', '>f4'), ('DECAPS_I', '>f4'), ('DECAPS_Z', '>f4'), ('DECAPS_Y', '>f4'), ('UKIDSS_J', '>f4'), ('UKIDSS_H', '>f4'), ('UKIDSS_K', '>f4'), ('GAIADR2_G', '>f8'), ('GAIADR2_BP', '>f8'), ('GAIADR2_RP', '>f8'), ('GAIAEDR3_G', '>f8'), ('GAIAEDR3_BP', '>f8'), ('GAIAEDR3_RP', '>f8'), ('PS_G_ERR', '>f4'), ('PS_R_ERR', '>f4'), ('PS_I_ERR', '>f4'), ('PS_Z_ERR', '>f4'), ('PS_Y_ERR', '>f4'), ('SDSS_U_ERR', '>f4'), ('SDSS_G_ERR', '>f4'), ('SDSS_R_ERR', '>f4'), ('SDSS_I_ERR', '>f4'), ('SDSS_Z_ERR', '>f4'), ('TMASS_J_ERR', '>f4'), ('TMASS_H_ERR', '>f4'), ('TMASS_K_ERR', '>f4'), ('WISE_W1_ERR', '>f4'), ('WISE_W2_ERR', '>f4'), ('WISE_W3_ERR', '>f4'), ('WISE_W4_ERR', '>f4'), ('UNWISE_W1_ERR', '>f4'), ('UNWISE_W2_ERR', '>f4'), ('GALEX_NUV_ERR', '>f4'), ('GALEX_FUV_ERR', '>f4'), ('DES_G_ERR', '>f4'), ('DES_R_ERR', '>f4'), ('DES_I_ERR', '>f4'), ('DES_Z_ERR', '>f4'), ('DES_Y_ERR', '>f4'), ('DECAPS_G_ERR', '>f4'), ('DECAPS_R_ERR', '>f4'), ('DECAPS_I_ERR', '>f4'), ('DECAPS_Z_ERR', '>f4'), ('DECAPS_Y_ERR', '>f4'), ('UKIDSS_J_ERR', '>f4'), ('UKIDSS_H_ERR', '>f4'), ('UKIDSS_K_ERR', '>f4'), ('GAIADR2_G_ERR', '>f8'), ('GAIADR2_BP_ERR', '>f8'), ('GAIADR2_RP_ERR', '>f8'), ('GAIAEDR3_G_ERR', '>f8'), ('GAIAEDR3_BP_ERR', '>f8'), ('GAIAEDR3_RP_ERR', '>f8'), ('APOPAYNE_TEFF', '>f8'), ('APOPAYNE_LOGG', '>f8'), ('APOPAYNE_VMIC', '>f8'), ('APOPAYNE_VMAC', '>f8'), ('APOPAYNE_FeH', '>f8'), ('APOPAYNE_CH', '>f8'), ('APOPAYNE_NH', '>f8'), ('APOPAYNE_OH', '>f8'), ('APOPAYNE_MgH', '>f8'), ('APOPAYNE_AlH', '>f8'), ('APOPAYNE_SiH', '>f8'), ('APOPAYNE_SH', '>f8'), ('APOPAYNE_KH', '>f8'), ('APOPAYNE_CaH', '>f8'), ('APOPAYNE_TiH', '>f8'), ('APOPAYNE_CrH', '>f8'), ('APOPAYNE_MnH', '>f8'), ('APOPAYNE_NiH', '>f8'), ('APOPAYNE_CuH', '>f8'), ('APOPAYNE_C12C13', '>f8'), ('LAMOST_TEFF', '>f4'), ('LAMOST_LOGG', '>f4'), ('LAMOST_FeH', '>f4'), ('LAMOST_RV', '>f4'), ('GAIADR2_RA', '>f8'), ('GAIADR2_DEC', '>f8'), ('GAIADR2_RA_ERROR', '>f8'), ('GAIADR2_DEC_ERROR', '>f8'), ('GAIADR2_PARALLAX', '>f8'), ('GAIADR2_PARALLAX_ERROR', '>f8'), ('GAIADR2_PARALLAX_OVER_ERROR', '>f8'), ('GAIADR2_PMRA', '>f8'), ('GAIADR2_PMDEC', '>f8'), ('GAIADR2_PMRA_ERROR', '>f8'), ('GAIADR2_PMDEC_ERROR', '>f8'), ('GAIADR2_PHOT_BP_RP_EXCESS_FACTOR', '>f8'), ('GAIADR2_VISIBILITY_PERIODS_USED', '>f8'), ('GAIADR2_ASTROMETRIC_EXCESS_NOISE', '>f8'), ('GAIADR2_ASTROMETRIC_EXCESS_NOISE_SIG', '>f8'), ('GAIADR2_ASTROMETRIC_SIGMA5D_MAX', '>f8'), ('GAIADR2_ASTROMETRIC_CHI2_AL', '>f8'), ('GAIADR2_ASTROMETRIC_N_GOOD_OBS_AL', '>f8'), ('GAIADR2_RUWE', '>f8'), ('GAIAEDR3_RA', '>f8'), ('GAIAEDR3_DEC', '>f8'), ('GAIAEDR3_RA_ERROR', '>f8'), ('GAIAEDR3_DEC_ERROR', '>f8'), ('GAIAEDR3_PARALLAX', '>f8'), ('GAIAEDR3_PARALLAX_ERROR', '>f8'), ('GAIAEDR3_PARALLAX_OVER_ERROR', '>f8'), ('GAIAEDR3_PMRA', '>f8'), ('GAIAEDR3_PMDEC', '>f8'), ('GAIAEDR3_PMRA_ERROR', '>f8'), ('GAIAEDR3_PMDEC_ERROR', '>f8'), ('GAIAEDR3_PSEUDOCOLOUR', '>f8'), ('GAIAEDR3_PSEUDOCOLOUR_ERROR', '>f8'), ('GAIAEDR3_NU_EFF_USED_IN_ASTROMETRY', '>f8'), ('GAIAEDR3_ASTROMETRIC_PARAMS_SOLVED', '>i8'), ('GAIAEDR3_PHOT_BP_RP_EXCESS_FACTOR', '>f8'), ('GAIAEDR3_VISIBILITY_PERIODS_USED', '>i8'), ('GAIAEDR3_RUWE', '>f8'), ('GAIAEDR3_IPD_GOF_HARMONIC_AMPLITUDE', '>f8'), ('GAIAEDR3_G_CORRECTED', '>f8'), ('GAIAEDR3_PARALLAX_CORRECTED', '>f8'), ('GAIAEDR3_PHOT_BP_RP_EXCESS_FACTOR_CORRECTED', '>f8'), ('GAIAEDR3_PARALLAX_PMRA_CORR', '>f8'), ('GAIAEDR3_PARALLAX_PMDEC_CORR', '>f8'), ('GAIAEDR3_PMRA_PMDEC_CORR', '>f8'), ('GAIAEDR3_RA_DEC_CORR', '>f8'), ('GAIAEDR3_RA_PARALLAX_CORR', '>f8'), ('GAIAEDR3_RA_PMRA_CORR', '>f8'), ('GAIAEDR3_RA_PMDEC_CORR', '>f8'), ('GAIAEDR3_DEC_PARALLAX_CORR', '>f8'), ('GAIAEDR3_DEC_PMRA_CORR', '>f8'), ('GAIAEDR3_DEC_PMDEC_CORR', '>f8'), ('HDBscan_MemProb', '>f8'), ('HDBscan_Cluster', '>f8'), ('HDBscan_Stability', '>f8'), ('MemBool', '>f8')])"
      ]
     },
     "execution_count": 8,
     "metadata": {},
     "output_type": "execute_result"
    }
   ],
   "source": [
    "hdbscan.dtype"
   ]
  },
  {
   "cell_type": "code",
   "execution_count": 9,
   "id": "be199b44",
   "metadata": {},
   "outputs": [],
   "source": [
    "obs_sources = [\"5318059532750974720\",\"5318498688873909632\",\"5317884439832479872\",\"5318500303781947776\"]"
   ]
  },
  {
   "cell_type": "code",
   "execution_count": 10,
   "id": "16a0db56",
   "metadata": {},
   "outputs": [],
   "source": [
    "ic2391_zorro = at.read(os.path.join(cat_dir,\"IC2391_zorro_DR2memb_EDR3data.csv\"),\n",
    "                       delimiter=\",\")"
   ]
  },
  {
   "cell_type": "code",
   "execution_count": 12,
   "id": "3b9046b7",
   "metadata": {},
   "outputs": [
    {
     "name": "stdout",
     "output_type": "stream",
     "text": [
      "224\n"
     ]
    }
   ],
   "source": [
    "subcat = ic2391_zorro[ic2391_zorro[\"ID\"].mask==False][\"ID\",\"RA\",\"Dec\",\"Obs date\",\"Sem\",\"TIC\",\n",
    "                                                      \"name\",\"date\",\"wav\",\"rho\",\"theta\",\"B/A\",\n",
    "                                                      \"delm\",\"see\",\"rho*see\",\"notes\",\"period\"]\n",
    "\n",
    "i = 0\n",
    "cluster = clusters[i]\n",
    "\n",
    "dat2 = read_cluster_visual(cluster,dates[i],clean_limit=0,\n",
    "                           to_plot=False,return_periodcolor=False)\n",
    "\n",
    "ic2391_zorro_edr3 = join(subcat,dat2,keys=[\"TIC\"],join_type=\"left\")"
   ]
  },
  {
   "cell_type": "code",
   "execution_count": 14,
   "id": "b52cba48",
   "metadata": {},
   "outputs": [],
   "source": [
    "gemini_det = ic2391_zorro_edr3[\"rho\"].mask==False"
   ]
  },
  {
   "cell_type": "code",
   "execution_count": 23,
   "id": "3f3f6d20",
   "metadata": {},
   "outputs": [
    {
     "name": "stdout",
     "output_type": "stream",
     "text": [
      "6.756756756756757 arcsec\n",
      "0.416 [5.75759arcsec]\n",
      "IC2391m083922-5355 61.568 AU\n",
      "0.044 [2.77718arcsec]\n",
      "IC2391f084218-5301 6.511999999999999 AU\n",
      "0.048 []\n",
      "IC2391b084214-5256 7.104 AU\n",
      "0.922 []\n",
      "IC2391b084300-5354 136.45600000000002 AU\n"
     ]
    }
   ],
   "source": [
    "# i = 0\n",
    "# cluster = clusters[i]\n",
    "max_sep = 1e3 * u.AU\n",
    "\n",
    "i = 0\n",
    "cluster = clusters[i]\n",
    "sep_dist = max_sep.to(u.pc) / (distances[cluster]*u.pc)\n",
    "max_ang_dist =  sep_dist.value * 360 / (2*np.pi) * u.degree\n",
    "print(max_ang_dist.to(u.arcsec))\n",
    "\n",
    "\n",
    "hdbscanfile = os.path.expanduser(f\"~/Dropbox/EDR3/scats/{cluster}.fits\")\n",
    "with fits.open(hdbscanfile) as hdu:\n",
    "    hdbscan = Table(hdu[1].data)\n",
    "if hdbscan.masked == False:\n",
    "    hdbscan = Table(hdbscan, masked=True, copy=False)\n",
    "hdbscan.rename_column(\"GAIADER3_ID\",\"GAIAEDR3_ID\")\n",
    "hpos = SkyCoord(hdbscan[\"GAIAEDR3_RA\"],hdbscan[\"GAIAEDR3_DEC\"],unit=u.degree)\n",
    "\n",
    "\n",
    "bp_rp = hdbscan[\"GAIAEDR3_BP\"] - hdbscan[\"GAIAEDR3_RP\"]\n",
    "\n",
    "\n",
    "for j in np.where(gemini_det)[0]:\n",
    "    gpos = SkyCoord(ic2391_zorro_edr3[\"GAIAEDR3_RA\"][j],ic2391_zorro_edr3[\"GAIAEDR3_DEC\"][j],unit=u.degree)\n",
    "    sep = gpos.separation(hpos)\n",
    "    close = (sep < max_ang_dist) & (hdbscan[\"GAIAEDR3_ID\"]!=ic2391_zorro_edr3[\"GAIAEDR3_ID\"][j])\n",
    "#     print(np.where(close)[0])\n",
    "    print(ic2391_zorro_edr3[\"rho\"][j],sep[close].to(u.arcsec))\n",
    "    print(ic2391_zorro_edr3[\"ID\"][j],(ic2391_zorro_edr3[\"rho\"][j]*(u.arcsec).to(u.radian)*distances[cluster]*u.pc).to(u.AU))\n",
    "\n",
    "    \n"
   ]
  },
  {
   "cell_type": "code",
   "execution_count": null,
   "id": "a44a74c0",
   "metadata": {},
   "outputs": [],
   "source": []
  }
 ],
 "metadata": {
  "kernelspec": {
   "display_name": "Python 3",
   "language": "python",
   "name": "python3"
  },
  "language_info": {
   "codemirror_mode": {
    "name": "ipython",
    "version": 3
   },
   "file_extension": ".py",
   "mimetype": "text/x-python",
   "name": "python",
   "nbconvert_exporter": "python",
   "pygments_lexer": "ipython3",
   "version": "3.6.13"
  }
 },
 "nbformat": 4,
 "nbformat_minor": 5
}
