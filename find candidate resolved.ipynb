{
 "cells": [
  {
   "cell_type": "code",
   "execution_count": 1,
   "id": "ab301934",
   "metadata": {},
   "outputs": [],
   "source": [
    "import os\n",
    "\n",
    "%matplotlib inline\n",
    "import matplotlib.pyplot as plt\n",
    "from matplotlib.patches import Circle\n",
    "import matplotlib.cm as cm\n",
    "import numpy as np\n",
    "import astropy.io.ascii as at\n",
    "import astropy.io.fits as fits\n",
    "import astropy.units as u\n",
    "from astropy.time import Time\n",
    "from astropy.io import fits\n",
    "from astropy.coordinates import SkyCoord, Distance\n",
    "from astropy.table import Table,join\n",
    "# from calc_ruwe import calc_ruwe\n",
    "# from scipy import stats, spatial"
   ]
  },
  {
   "cell_type": "code",
   "execution_count": 2,
   "id": "6b0ed72f",
   "metadata": {},
   "outputs": [],
   "source": [
    "cmap2 = cm.get_cmap(\"viridis\",7)\n",
    "colors = {\"IC_2391\": cmap2(0),\n",
    "         \"IC_2602\": cmap2(4),\n",
    "         \"NGC_2547\": cmap2(3),\n",
    "         \"NGC_2451A\": cmap2(2),\n",
    "         \"Collinder_135\": cmap2(1)}\n",
    "\n",
    "\n",
    "shapes= {\"IC_2391\": \"o\",\n",
    "         \"IC_2602\": \"d\",\n",
    "         \"NGC_2547\": \"v\",\n",
    "         \"NGC_2451A\": \"^\",\n",
    "         \"Collinder_135\": \"s\"}\n"
   ]
  },
  {
   "cell_type": "code",
   "execution_count": 3,
   "id": "7613130a",
   "metadata": {},
   "outputs": [],
   "source": [
    "cat_dir = os.path.expanduser(\"~/projects/TESS_young/\")"
   ]
  },
  {
   "cell_type": "code",
   "execution_count": 4,
   "id": "53c67d9b",
   "metadata": {},
   "outputs": [],
   "source": [
    "from analyze_cluster_output import id_solar, read_cluster_visual"
   ]
  },
  {
   "cell_type": "code",
   "execution_count": 5,
   "id": "40918825",
   "metadata": {},
   "outputs": [],
   "source": [
    "clusters = [\"IC_2391\",\"Collinder_135\",\"NGC_2451A\",\"NGC_2547\",\"IC_2602\"]\n",
    "dates = [\"2021-06-22\",\"2021-06-18\",\"2021-06-21\",\"2021-06-21\",\"2021-07-02\"]\n",
    "distances = {\"Collinder_135\":292,\"IC_2602\": 149, \"NGC_2547\":396,\n",
    "             \"IC_2391\":148,\"NGC_2451A\":195}\n"
   ]
  },
  {
   "cell_type": "code",
   "execution_count": 28,
   "id": "3b337a16",
   "metadata": {},
   "outputs": [
    {
     "name": "stdout",
     "output_type": "stream",
     "text": [
      "224\n",
      "6.756756756756757 arcsec\n",
      "IC_2391 [False False False False False False False False]\n",
      "364\n",
      "3.4246575342465753 arcsec\n",
      "Collinder_135 [False False False False False False False False False False False False\n",
      " False False False False False]\n",
      "316\n",
      "5.128205128205129 arcsec\n",
      "NGC_2451A [False False False False False False False False False False False]\n",
      "199\n",
      "2.525252525252525 arcsec\n",
      "NGC_2547 [False False False False False False False False False False False False\n",
      " False]\n",
      "395\n",
      "6.7114093959731544 arcsec\n",
      "IC_2602 [False False False False False False False False False False False False\n",
      " False False]\n"
     ]
    }
   ],
   "source": [
    "# i = 0\n",
    "# cluster = clusters[i]\n",
    "max_sep = 1e3 * u.AU\n",
    "\n",
    "for i,cluster in enumerate(clusters):\n",
    "\n",
    "    hdbscanfile = os.path.expanduser(f\"~/Dropbox/EDR3/scats/{cluster}.fits\")\n",
    "    with fits.open(hdbscanfile) as hdu:\n",
    "        hdbscan = Table(hdu[1].data)\n",
    "    if hdbscan.masked == False:\n",
    "        hdbscan = Table(hdbscan, masked=True, copy=False)\n",
    "    hdbscan.rename_column(\"GAIADER3_ID\",\"GAIAEDR3_ID\")\n",
    "    hpos = SkyCoord(hdbscan[\"GAIAEDR3_RA\"],hdbscan[\"GAIAEDR3_DEC\"],unit=u.degree)\n",
    "\n",
    "\n",
    "    dat2 = read_cluster_visual(cluster,dates[i],clean_limit=0,\n",
    "                               to_plot=False,return_periodcolor=False)\n",
    "    dpos = SkyCoord(dat2[\"GAIAEDR3_RA\"],dat2[\"GAIAEDR3_DEC\"],unit=u.degree)\n",
    "\n",
    "    bp_rp = hdbscan[\"GAIAEDR3_BP\"] - hdbscan[\"GAIAEDR3_RP\"]\n",
    "    bp_rp2 = dat2[\"GAIAEDR3_BP\"] - dat2[\"GAIAEDR3_RP\"]\n",
    "\n",
    "    solar = id_solar(bp_rp2)\n",
    "\n",
    "    sep_dist = max_sep.to(u.pc) / (distances[cluster]*u.pc)\n",
    "    max_ang_dist =  sep_dist.value * 360 / (2*np.pi) * u.degree\n",
    "    print(max_ang_dist.to(u.arcsec))\n",
    "\n",
    "    n_solar = len(np.where(solar)[0])\n",
    "    ndat = len(dat2)\n",
    "    cand_resolved = np.zeros(ndat,bool)\n",
    "    cand_loc = np.ones(ndat,int)*-9999\n",
    "\n",
    "    for j in np.where(solar)[0]:    \n",
    "        sep = dpos[j].separation(hpos)\n",
    "\n",
    "        hloc = hdbscan[\"GAIAEDR3_ID\"]==dat2[\"GAIAEDR3_ID\"][j]\n",
    "\n",
    "        close = (sep < max_ang_dist) & (hdbscan[\"GAIAEDR3_ID\"]!=dat2[\"GAIAEDR3_ID\"][j])\n",
    "\n",
    "    #     print(len(np.where(close)[0]))\n",
    "    #     print(sep[close].to(u.arcsec))\n",
    "        for k in np.where(close)[0]:\n",
    "            pmra_diff = np.abs(hdbscan[\"GAIAEDR3_PMRA\"][hloc]-hdbscan[\"GAIAEDR3_PMRA\"][k])\n",
    "            pmdec_diff = np.abs(hdbscan[\"GAIAEDR3_PMDEC\"][hloc]-hdbscan[\"GAIAEDR3_PMDEC\"][k])\n",
    "            pmra_diff_sigma = np.sqrt(hdbscan[\"GAIAEDR3_PMRA_ERROR\"][hloc]**2 + hdbscan[\"GAIAEDR3_PMRA_ERROR\"][k]**2)\n",
    "            pmdec_diff_sigma = np.sqrt(hdbscan[\"GAIAEDR3_PMDEC_ERROR\"][hloc]**2 + hdbscan[\"GAIAEDR3_PMDEC_ERROR\"][k]**2)\n",
    "    #         print(k,pmra_diff,pmdec_diff,pmra_diff_sigma,pmdec_diff_sigma)\n",
    "            if (pmra_diff < (pmra_diff_sigma*3)) & (pmdec_diff < (pmdec_diff_sigma*3)):\n",
    "                cand_resolved[j] = True\n",
    "                cand_loc[j] = k\n",
    "                print(i,j,k,sep[k].to(u.arcsec))\n",
    "                print(k,pmra_diff_sigma,pmdec_diff_sigma)\n",
    "                \n",
    "\n",
    "    print(cluster,cand_resolved[solar])\n",
    "# Something is wrong with this because I'm getting a print out for an IC2391 star, but no close targets in the boolean array"
   ]
  },
  {
   "cell_type": "code",
   "execution_count": 18,
   "id": "64d26d8d",
   "metadata": {},
   "outputs": [],
   "source": []
  },
  {
   "cell_type": "code",
   "execution_count": 19,
   "id": "bddb18e7",
   "metadata": {},
   "outputs": [
    {
     "data": {
      "text/plain": [
       "array([False, False, False, False, False, False, False, False])"
      ]
     },
     "execution_count": 19,
     "metadata": {},
     "output_type": "execute_result"
    }
   ],
   "source": [
    "cand_resolved"
   ]
  },
  {
   "cell_type": "code",
   "execution_count": null,
   "id": "ce6b4e7f",
   "metadata": {},
   "outputs": [],
   "source": []
  }
 ],
 "metadata": {
  "kernelspec": {
   "display_name": "Python 3",
   "language": "python",
   "name": "python3"
  },
  "language_info": {
   "codemirror_mode": {
    "name": "ipython",
    "version": 3
   },
   "file_extension": ".py",
   "mimetype": "text/x-python",
   "name": "python",
   "nbconvert_exporter": "python",
   "pygments_lexer": "ipython3",
   "version": "3.6.13"
  }
 },
 "nbformat": 4,
 "nbformat_minor": 5
}
